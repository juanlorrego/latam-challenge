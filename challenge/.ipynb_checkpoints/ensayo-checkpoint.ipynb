{
 "cells": [
  {
   "cell_type": "code",
   "execution_count": 1,
   "metadata": {},
   "outputs": [],
   "source": [
    "import numpy as np\n",
    "import pandas as pd\n",
    "#import matplotlib.pyplot as plt\n",
    "#import seaborn as sns\n",
    "import time\n",
    "from datetime import datetime\n",
    "\n",
    "from sklearn.model_selection import train_test_split\n",
    "from sklearn.utils import shuffle\n",
    "from sklearn.metrics import confusion_matrix, classification_report\n",
    "from sklearn.linear_model import LogisticRegression\n",
    "\n",
    "import xgboost as xgb\n",
    "from xgboost import plot_importance\n",
    "\n",
    "import warnings\n",
    "warnings.filterwarnings('ignore')"
   ]
  },
  {
   "cell_type": "code",
   "execution_count": 2,
   "metadata": {},
   "outputs": [],
   "source": [
    "def get_period_day(date):\n",
    "    date_time = datetime.strptime(date, '%Y-%m-%d %H:%M:%S').time()\n",
    "    morning_min = datetime.strptime(\"05:00\", '%H:%M').time()\n",
    "    morning_max = datetime.strptime(\"11:59\", '%H:%M').time()\n",
    "    afternoon_min = datetime.strptime(\"12:00\", '%H:%M').time()\n",
    "    afternoon_max = datetime.strptime(\"18:59\", '%H:%M').time()\n",
    "    evening_min = datetime.strptime(\"19:00\", '%H:%M').time()\n",
    "    evening_max = datetime.strptime(\"23:59\", '%H:%M').time()\n",
    "    night_min = datetime.strptime(\"00:00\", '%H:%M').time()\n",
    "    night_max = datetime.strptime(\"4:59\", '%H:%M').time()\n",
    "    \n",
    "    if(date_time >= morning_min and date_time <= morning_max):\n",
    "        return 'mañana'\n",
    "    elif(date_time >= afternoon_min and date_time <= afternoon_max):\n",
    "        return 'tarde'\n",
    "    elif(\n",
    "        (date_time >= evening_min and date_time <= evening_max) or\n",
    "        (date_time >= night_min and date_time <= night_max)\n",
    "    ):\n",
    "        return 'noche'"
   ]
  },
  {
   "cell_type": "code",
   "execution_count": 3,
   "metadata": {},
   "outputs": [],
   "source": [
    "def is_high_season(fecha):\n",
    "    fecha_año = int(fecha.split('-')[0])\n",
    "    fecha = datetime.strptime(fecha, '%Y-%m-%d %H:%M:%S')\n",
    "    range1_min = datetime.strptime('15-Dec', '%d-%b').replace(year = fecha_año)\n",
    "    range1_max = datetime.strptime('31-Dec', '%d-%b').replace(year = fecha_año)\n",
    "    range2_min = datetime.strptime('1-Jan', '%d-%b').replace(year = fecha_año)\n",
    "    range2_max = datetime.strptime('3-Mar', '%d-%b').replace(year = fecha_año)\n",
    "    range3_min = datetime.strptime('15-Jul', '%d-%b').replace(year = fecha_año)\n",
    "    range3_max = datetime.strptime('31-Jul', '%d-%b').replace(year = fecha_año)\n",
    "    range4_min = datetime.strptime('11-Sep', '%d-%b').replace(year = fecha_año)\n",
    "    range4_max = datetime.strptime('30-Sep', '%d-%b').replace(year = fecha_año)\n",
    "    \n",
    "    if ((fecha >= range1_min and fecha <= range1_max) or \n",
    "        (fecha >= range2_min and fecha <= range2_max) or \n",
    "        (fecha >= range3_min and fecha <= range3_max) or\n",
    "        (fecha >= range4_min and fecha <= range4_max)):\n",
    "        return 1\n",
    "    else:\n",
    "        return 0"
   ]
  },
  {
   "cell_type": "code",
   "execution_count": 4,
   "metadata": {},
   "outputs": [],
   "source": [
    "def get_min_diff(data):\n",
    "    fecha_o = datetime.strptime(data['Fecha-O'], '%Y-%m-%d %H:%M:%S')\n",
    "    fecha_i = datetime.strptime(data['Fecha-I'], '%Y-%m-%d %H:%M:%S')\n",
    "    min_diff = ((fecha_o - fecha_i).total_seconds())/60\n",
    "    return min_diff"
   ]
  },
  {
   "cell_type": "code",
   "execution_count": 5,
   "metadata": {},
   "outputs": [],
   "source": [
    "def get_rate_from_column(data, column):\n",
    "    delays = {}\n",
    "    for _, row in data.iterrows():\n",
    "        if row['delay'] == 1:\n",
    "            if row[column] not in delays:\n",
    "                delays[row[column]] = 1\n",
    "            else:\n",
    "                delays[row[column]] += 1\n",
    "    total = data[column].value_counts().to_dict()\n",
    "    \n",
    "    rates = {}\n",
    "    for name, total in total.items():\n",
    "        if name in delays:\n",
    "            rates[name] = round(delays[name] / total, 2)*100\n",
    "        else:\n",
    "            rates[name] = 0\n",
    "            \n",
    "    return pd.DataFrame.from_dict(data = rates, orient = 'index', columns = ['Tasa (%)'])"
   ]
  },
  {
   "cell_type": "code",
   "execution_count": 6,
   "metadata": {},
   "outputs": [],
   "source": [
    "data = pd.read_csv('../data/data.csv')\n",
    "#data.info()"
   ]
  },
  {
   "cell_type": "code",
   "execution_count": 7,
   "metadata": {},
   "outputs": [],
   "source": [
    "data['period_day'] = data['Fecha-I'].apply(get_period_day)"
   ]
  },
  {
   "cell_type": "code",
   "execution_count": 8,
   "metadata": {},
   "outputs": [],
   "source": [
    "data['high_season'] = data['Fecha-I'].apply(is_high_season)"
   ]
  },
  {
   "cell_type": "code",
   "execution_count": 9,
   "metadata": {},
   "outputs": [],
   "source": [
    "data['min_diff'] = data.apply(get_min_diff, axis = 1)"
   ]
  },
  {
   "cell_type": "code",
   "execution_count": 10,
   "metadata": {},
   "outputs": [],
   "source": [
    "threshold_in_minutes = 15\n",
    "data['delay'] = np.where(data['min_diff'] > threshold_in_minutes, 1, 0)"
   ]
  },
  {
   "cell_type": "code",
   "execution_count": 11,
   "metadata": {},
   "outputs": [],
   "source": [
    "#training_data = shuffle(data[['OPERA', 'MES', 'TIPOVUELO', 'SIGLADES', 'DIANOM', 'delay']], random_state = 111)"
   ]
  },
  {
   "cell_type": "code",
   "execution_count": 12,
   "metadata": {},
   "outputs": [],
   "source": [
    "features = pd.concat([\n",
    "    pd.get_dummies(data['OPERA'], prefix = 'OPERA'),\n",
    "    pd.get_dummies(data['TIPOVUELO'], prefix = 'TIPOVUELO'), \n",
    "    pd.get_dummies(data['MES'], prefix = 'MES')], \n",
    "    axis = 1\n",
    ")\n",
    "target = data['delay']"
   ]
  },
  {
   "cell_type": "code",
   "execution_count": 13,
   "metadata": {},
   "outputs": [],
   "source": [
    "top_10_features = [\n",
    "    \"OPERA_Latin American Wings\", \n",
    "    \"MES_7\",\n",
    "    \"MES_10\",\n",
    "    \"OPERA_Grupo LATAM\",\n",
    "    \"MES_12\",\n",
    "    \"TIPOVUELO_I\",\n",
    "    \"MES_4\",\n",
    "    \"MES_11\",\n",
    "    \"OPERA_Sky Airline\",\n",
    "    \"OPERA_Copa Air\"\n",
    "]"
   ]
  },
  {
   "cell_type": "code",
   "execution_count": 14,
   "metadata": {},
   "outputs": [],
   "source": [
    "x_train2, x_test2, y_train2, y_test2 = train_test_split(features[top_10_features], target, test_size = 0.33, random_state = 42)"
   ]
  },
  {
   "cell_type": "code",
   "execution_count": 15,
   "metadata": {},
   "outputs": [],
   "source": [
    "reg_model_2 = LogisticRegression(class_weight={1: n_y0/len(y_train), 0: n_y1/len(y_train)})\n",
    "reg_model_2.fit(x_train2, y_train2)"
   ]
  }
 ],
 "metadata": {
  "kernelspec": {
   "display_name": "Python 3 (ipykernel)",
   "language": "python",
   "name": "python3"
  },
  "language_info": {
   "codemirror_mode": {
    "name": "ipython",
    "version": 3
   },
   "file_extension": ".py",
   "mimetype": "text/x-python",
   "name": "python",
   "nbconvert_exporter": "python",
   "pygments_lexer": "ipython3",
   "version": "3.11.3"
  }
 },
 "nbformat": 4,
 "nbformat_minor": 2
}
