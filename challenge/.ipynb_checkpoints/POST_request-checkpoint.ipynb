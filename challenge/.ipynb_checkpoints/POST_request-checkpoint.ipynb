{
 "cells": [
  {
   "cell_type": "code",
   "execution_count": 1,
   "id": "7d891a83",
   "metadata": {},
   "outputs": [],
   "source": [
    "import requests\n",
    "import json"
   ]
  },
  {
   "cell_type": "code",
   "execution_count": null,
   "id": "b426f2e2",
   "metadata": {},
   "outputs": [],
   "source": [
    "url = \"https://advana-challenge-check-api-cr-k4hdbggvoq-uc.a.run.app/software-engineer\"\n",
    "\n",
    "data = {\n",
    "    \"name\": \"Juan Luis Orrego Henao\",\n",
    "    \"mail\": \"juanorrego9@hotmail.com\",\n",
    "    \"github_url\": \"https://github.com/juanlorrego/latam-challenge.git\",\n",
    "    \"api_url\": \"https://latam-challenge-406819.rj.r.appspot.com/\"\n",
    "}\n",
    "\n",
    "headers = {'Content-Type': 'application/json'}"
   ]
  },
  {
   "cell_type": "code",
   "execution_count": null,
   "id": "148f40e3",
   "metadata": {},
   "outputs": [],
   "source": [
    "response = requests.post(url, data=json.dumps(data), headers=headers)\n",
    "\n",
    "print(response.status_code)\n",
    "print(response.json())"
   ]
  }
 ],
 "metadata": {
  "kernelspec": {
   "display_name": "Python 3 (ipykernel)",
   "language": "python",
   "name": "python3"
  },
  "language_info": {
   "codemirror_mode": {
    "name": "ipython",
    "version": 3
   },
   "file_extension": ".py",
   "mimetype": "text/x-python",
   "name": "python",
   "nbconvert_exporter": "python",
   "pygments_lexer": "ipython3",
   "version": "3.11.3"
  }
 },
 "nbformat": 4,
 "nbformat_minor": 5
}
